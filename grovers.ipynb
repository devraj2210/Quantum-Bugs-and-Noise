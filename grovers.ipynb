{
 "cells": [
  {
   "cell_type": "code",
   "execution_count": 1,
   "metadata": {},
   "outputs": [],
   "source": [
    "# Built-in modules\n",
    "import math\n",
    "\n",
    "# Imports from Qiskit\n",
    "from qiskit import QuantumCircuit\n",
    "from qiskit.circuit.library import GroverOperator, MCMT, ZGate\n",
    "from qiskit.visualization import plot_distribution\n",
    "\n",
    "# Imports from Qiskit Runtime\n",
    "from qiskit_ibm_runtime import QiskitRuntimeService\n",
    "from qiskit_ibm_runtime import SamplerV2 as Sampler\n",
    "\n",
    "from qiskit_aer import AerSimulator\n",
    "from qiskit_aer.noise import NoiseModel, errors\n",
    "from qiskit.primitives import StatevectorSampler\n",
    "from qiskit import transpile"
   ]
  },
  {
   "cell_type": "code",
   "execution_count": null,
   "metadata": {},
   "outputs": [
    {
     "data": {
      "text/plain": [
       "'ibm_brisbane'"
      ]
     },
     "execution_count": 2,
     "metadata": {},
     "output_type": "execute_result"
    }
   ],
   "source": [
    "# To run on hardware, select the backend with the fewest number of jobs in the queue\n",
    "service = QiskitRuntimeService(channel=\"ibm_quantum\", token='enter your ibm token')\n",
    "backend = service.least_busy(operational=True, simulator=False)\n",
    "backend.name"
   ]
  },
  {
   "cell_type": "code",
   "execution_count": 3,
   "metadata": {},
   "outputs": [],
   "source": [
    "def grover_oracle(marked_states):\n",
    "    \"\"\"Build a Grover oracle for multiple marked states\n",
    "\n",
    "    Here we assume all input marked states have the same number of bits\n",
    "\n",
    "    Parameters:\n",
    "        marked_states (str or list): Marked states of oracle\n",
    "\n",
    "    Returns:\n",
    "        QuantumCircuit: Quantum circuit representing Grover oracle\n",
    "    \"\"\"\n",
    "    if not isinstance(marked_states, list):\n",
    "        marked_states = [marked_states]\n",
    "    # Compute the number of qubits in circuit\n",
    "    num_qubits = len(marked_states[0])\n",
    "\n",
    "    qc = QuantumCircuit(num_qubits)\n",
    "    # Mark each target state in the input list\n",
    "    for target in marked_states:\n",
    "        # Flip target bit-string to match Qiskit bit-ordering\n",
    "        rev_target = target[::-1]\n",
    "        # Find the indices of all the '0' elements in bit-string\n",
    "        zero_inds = [ind for ind in range(num_qubits) if rev_target.startswith(\"0\", ind)]\n",
    "        # Add a multi-controlled Z-gate with pre- and post-applied X-gates (open-controls)\n",
    "        # where the target bit-string has a '0' entry\n",
    "        \n",
    "        qc.x(zero_inds)      # Line 1\n",
    "        qc.compose(MCMT(ZGate(), num_qubits - 1, 1), inplace=True)    # Line 2\n",
    "        qc.x(zero_inds)      # line 3\n",
    "    return qc"
   ]
  },
  {
   "cell_type": "code",
   "execution_count": 51,
   "metadata": {},
   "outputs": [],
   "source": [
    "def grover_search(marked_states, shots=100000, noise=None):\n",
    "    oracle = grover_oracle(marked_states)\n",
    "    grover_op = GroverOperator(oracle)\n",
    "\n",
    "    optimal_num_iterations = math.floor(\n",
    "    math.pi / (4 * math.asin(math.sqrt(len(marked_states) / 2**grover_op.num_qubits)))\n",
    "    )\n",
    "    \n",
    "    qc = QuantumCircuit(grover_op.num_qubits)\n",
    "    # Create even superposition of all basis states\n",
    "    qc.h(range(grover_op.num_qubits))\n",
    "    # qc.x(0)  #bug\n",
    "    # Apply Grover operator the optimal number of times\n",
    "    qc.compose(grover_op.power(optimal_num_iterations), inplace=True)\n",
    "    # Measure all qubits\n",
    "    qc.measure_all()\n",
    "    # qc.draw(output=\"mpl\", style=\"iqp\")\n",
    "\n",
    "    from qiskit.transpiler.preset_passmanagers import generate_preset_pass_manager\n",
    "\n",
    "    target = backend.target\n",
    "    pm = generate_preset_pass_manager(target=target, optimization_level=3)\n",
    "\n",
    "    circuit_isa = pm.run(qc)\n",
    "    # circuit_isa.draw(output=\"mpl\", idle_wires=False, style=\"iqp\")\n",
    "\n",
    "    sampler = AerSimulator(noise_model=noise)\n",
    "    result = sampler.run(circuit_isa, shots=shots, memory=True).result()\n",
    "    return result.get_counts()"
   ]
  },
  {
   "cell_type": "code",
   "execution_count": 52,
   "metadata": {},
   "outputs": [],
   "source": [
    "def create_noise_model(f):\n",
    "    noise_model = NoiseModel()\n",
    "\n",
    "    # Add a bit-flip error on all single-qubit gates with a probability of 0.05\n",
    "    bit_flip_error = errors.pauli_error([('X', f), ('I', 1-f)])\n",
    "    noise_model.add_all_qubit_quantum_error(bit_flip_error, ['u1', 'u2', 'u3', 'rz', 'sx', 'x', 'y', 'z', 'h', 's', 'sdg', 't', 'tdg'])\n",
    "\n",
    "    # Add a phase-flip error on all single-qubit gates with a probability of 0.05\n",
    "    phase_flip_error = errors.pauli_error([('Z', f), ('I', 1-f)])\n",
    "    noise_model.add_all_qubit_quantum_error(phase_flip_error, ['u1', 'u2', 'u3', 'rz', 'sx', 'x', 'y', 'z', 'h', 's', 'sdg', 't', 'tdg'])\n",
    "    \n",
    "    # Add a depolarizing error on two-qubit gates with a probability of 0.05\n",
    "    depolarizing_error = errors.depolarizing_error(f, 2)\n",
    "    noise_model.add_all_qubit_quantum_error(depolarizing_error, ['cx'])\n",
    "\n",
    "    return noise_model"
   ]
  },
  {
   "cell_type": "code",
   "execution_count": 53,
   "metadata": {},
   "outputs": [],
   "source": [
    "from math import log2\n",
    "import numpy as np\n",
    "\n",
    "def calculate_bias_entropy(output_map, marked_state):\n",
    "    total_count = sum(output_map.values())\n",
    "\n",
    "    bias = 0\n",
    "    count = 0\n",
    "    for key, val in output_map.items():\n",
    "        if key not in marked_state:\n",
    "            bias += val / total_count\n",
    "        count += 1\n",
    "\n",
    "    entropy = 0\n",
    "    for key, val in output_map.items():\n",
    "        if (val == 0):\n",
    "            continue\n",
    "        else:\n",
    "            p = val / total_count\n",
    "            entropy = entropy - p * log2(p)\n",
    "\n",
    "    return bias, entropy"
   ]
  },
  {
   "cell_type": "code",
   "execution_count": 54,
   "metadata": {},
   "outputs": [],
   "source": [
    "def to_bin(number, num_bits):\n",
    "    return format(number, f'0{num_bits}b')"
   ]
  },
  {
   "cell_type": "code",
   "execution_count": 55,
   "metadata": {},
   "outputs": [],
   "source": [
    "def empty_dict(n):\n",
    "    dict = {}\n",
    "    keys = [to_bin(i,n) for i in range(pow(2,n))]\n",
    "    dict = dict.fromkeys(keys, 0)\n",
    "    return dict"
   ]
  },
  {
   "cell_type": "code",
   "execution_count": 58,
   "metadata": {},
   "outputs": [
    {
     "name": "stdout",
     "output_type": "stream",
     "text": [
      "bias is 0.21733\n",
      "entropy is 2.0980852542536463\n"
     ]
    },
    {
     "data": {
      "image/png": "[encoded data removed]",
      "text/plain": [
       "<Figure size 700x500 with 1 Axes>"
      ]
     },
     "execution_count": 58,
     "metadata": {},
     "output_type": "execute_result"
    }
   ],
   "source": [
    "marked_states=['000', '001']\n",
    "shots = 100000\n",
    "\n",
    "noise = create_noise_model(0.001)\n",
    "dist = empty_dict(len(marked_states[0]))\n",
    "result = grover_search(marked_states, shots, noise=noise)\n",
    "for key, val in result.items():\n",
    "    dist[key] = val\n",
    "\n",
    "bias, entropy = calculate_bias_entropy(dist, marked_states)\n",
    "\n",
    "print(f\"bias is {bias}\")\n",
    "print(f\"entropy is {entropy}\")\n",
    "\n",
    "plot_distribution(dist)"
   ]
  },
  {
   "cell_type": "markdown",
   "metadata": {},
   "source": [
    "# Entropy vs Noise"
   ]
  },
  {
   "cell_type": "code",
   "execution_count": null,
   "metadata": {},
   "outputs": [],
   "source": [
    "marked_states=['000', '001']\n",
    "shots = 100000\n",
    "\n",
    "biases = []\n",
    "entropies = []\n",
    "noise_levels = [j/100.0 for j in range(0, 51)]\n",
    "for i in noise_levels:\n",
    "    noise = create_noise_model(i)\n",
    "    result = grover_search(marked_states, shots, noise=noise)\n",
    "\n",
    "    bias, entropy = calculate_bias_entropy(result, marked_states)\n",
    "    biases.append(bias)\n",
    "    entropies.append(entropy)\n",
    "# print(f\"bias: {arr[0]}, entropy: {arr[1]}\")\n",
    "# plot_histogram(results)"
   ]
  },
  {
   "cell_type": "code",
   "execution_count": null,
   "metadata": {},
   "outputs": [],
   "source": [
    "import matplotlib.pyplot as plt\n",
    "\n",
    "plt.plot(noise_levels, entropies, marker='o')  # marker='o' adds points for each x-y pair\n",
    "plt.xlabel('noise_level')\n",
    "plt.ylabel('entropy')\n",
    "plt.title('Plot of Entropy vs Noise')\n",
    "plt.grid(True)\n",
    "plt.show()"
   ]
  }
 ],
 "metadata": {
  "kernelspec": {
   "display_name": "cwq",
   "language": "python",
   "name": "python3"
  },
  "language_info": {
   "codemirror_mode": {
    "name": "ipython",
    "version": 3
   },
   "file_extension": ".py",
   "mimetype": "text/x-python",
   "name": "python",
   "nbconvert_exporter": "python",
   "pygments_lexer": "ipython3",
   "version": "3.12.3"
  }
 },
 "nbformat": 4,
 "nbformat_minor": 2
}
