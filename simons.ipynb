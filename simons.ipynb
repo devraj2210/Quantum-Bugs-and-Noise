{
 "cells": [
  {
   "cell_type": "code",
   "execution_count": 1,
   "metadata": {},
   "outputs": [],
   "source": [
    "# import random\n",
    "import qiskit.quantum_info as qi\n",
    "from qiskit import QuantumCircuit\n",
    "import numpy as np\n",
    "# np.random.seed(11)\n",
    "from qiskit import QuantumCircuit, transpile\n",
    "import numpy as np\n",
    "from qiskit.visualization import plot_histogram\n",
    "from qiskit_aer import AerSimulator\n",
    "from qiskit_aer.noise import NoiseModel, errors"
   ]
  },
  {
   "cell_type": "code",
   "execution_count": 2,
   "metadata": {},
   "outputs": [],
   "source": [
    "def create_noise_model(f):\n",
    "    noise_model = NoiseModel()\n",
    "\n",
    "    # Add a bit-flip error on all single-qubit gates with a probability of 0.05\n",
    "    bit_flip_error = errors.pauli_error([('X', f), ('I', 1-f)])\n",
    "    noise_model.add_all_qubit_quantum_error(bit_flip_error, ['u1', 'u2', 'u3', 'rz', 'sx', 'x', 'y', 'z', 'h', 's', 'sdg', 't', 'tdg'])\n",
    "\n",
    "    # Add a phase-flip error on all single-qubit gates with a probability of 0.05\n",
    "    phase_flip_error = errors.pauli_error([('Z', f), ('I', 1-f)])\n",
    "    noise_model.add_all_qubit_quantum_error(phase_flip_error, ['u1', 'u2', 'u3', 'rz', 'sx', 'x', 'y', 'z', 'h', 's', 'sdg', 't', 'tdg'])\n",
    "    \n",
    "    # Add a depolarizing error on two-qubit gates with a probability of 0.05\n",
    "    depolarizing_error = errors.depolarizing_error(f, 2)\n",
    "    noise_model.add_all_qubit_quantum_error(depolarizing_error, ['cx'])\n",
    "\n",
    "    return noise_model"
   ]
  },
  {
   "cell_type": "code",
   "execution_count": 3,
   "metadata": {},
   "outputs": [],
   "source": [
    "def simon_function(s: str):\n",
    "    \"\"\"\n",
    "    Create a QuantumCircuit implementing a query gate for Simon problem obeying the promise for the hidden string `s`\n",
    "    \"\"\"\n",
    "    # Our quantum circuit has 2n qubits for n = len(s)\n",
    "    n = len(s)\n",
    "    qc = QuantumCircuit(2 * n)\n",
    "\n",
    "    # Define a random permutation of all n bit strings. This permutation will effectively hide the string s.\n",
    "    pi = np.random.permutation(2**n)\n",
    "\n",
    "    # Now we'll define a query gate explicitly. The idea is to first define a function g(x) = min{x,x ^ s}, which\n",
    "    # is a simple function that satisfies the promise, and then we take f to be the composition of g and the random\n",
    "    # permutation pi. This gives us a random function satisfying the promise for s.\n",
    "\n",
    "    query_gate = np.zeros((4**n, 4**n))\n",
    "    for x in range(2**n):\n",
    "        for y in range(2**n):\n",
    "            z = y ^ pi[min(x, x ^ int(s, 2))]\n",
    "            query_gate[x + 2**n * z, x + 2**n * y] = 1\n",
    "            # if x==y:\n",
    "            #     query_gate[x,y]=1\n",
    "\n",
    "    \n",
    "    # display(query_gate)\n",
    "\n",
    "    # Our circuit has just this one query gate\n",
    "    qc.unitary(query_gate, range(2 * n))\n",
    "    return qc"
   ]
  },
  {
   "cell_type": "code",
   "execution_count": 10,
   "metadata": {},
   "outputs": [],
   "source": [
    "from qiskit_aer import AerSimulator\n",
    "from qiskit import ClassicalRegister\n",
    "from qiskit import transpile\n",
    "\n",
    "def simon_measurements(problem: QuantumCircuit, k: int, noise_model):\n",
    "    \"\"\"\n",
    "    Quantum part of Simon's algorithm. Given a `QuantumCircuit` that\n",
    "    implements f, get `k` measurements to be post-processed later.\n",
    "    \"\"\"\n",
    "    n = problem.num_qubits // 2\n",
    "\n",
    "    qc = QuantumCircuit(2 * n, n)\n",
    "    qc.h(range(n))\n",
    "    # qc.x(n-1)  #bug\n",
    "    qc.compose(problem, inplace=True)\n",
    "    # qc.z(0)    #bug\n",
    "    qc.h(range(n))\n",
    "    # qc.x(0)    #bug\n",
    "    qc.measure(range(n), range(n))\n",
    "\n",
    "    result = AerSimulator(noise_model=noise_model).run(qc, shots=k, memory=True).result()\n",
    "    # return result.get_memory()\n",
    "    return result.get_counts()"
   ]
  },
  {
   "cell_type": "code",
   "execution_count": 5,
   "metadata": {},
   "outputs": [],
   "source": [
    "from math import log2\n",
    "\n",
    "def calculate_bias_entropy(output_map, unwanted_states):\n",
    "    total_count = sum(output_map.values())\n",
    "\n",
    "    bias = 0\n",
    "    count = 0\n",
    "    for key, val in output_map.items():\n",
    "        if key in unwanted_states:\n",
    "            bias += val / total_count\n",
    "        count += 1\n",
    "\n",
    "    entropy = 0\n",
    "    for key, val in output_map.items():\n",
    "        if (val == 0):\n",
    "            continue\n",
    "        else:\n",
    "            p = val / total_count\n",
    "            entropy = entropy - p * log2(p)\n",
    "\n",
    "    return bias, entropy"
   ]
  },
  {
   "cell_type": "code",
   "execution_count": 6,
   "metadata": {},
   "outputs": [],
   "source": [
    "def to_bin(number, num_bits):\n",
    "    return format(number, f'0{num_bits}b')"
   ]
  },
  {
   "cell_type": "code",
   "execution_count": 7,
   "metadata": {},
   "outputs": [],
   "source": [
    "def simons_non_ys(s):\n",
    "    n = len(s)\n",
    "    l=[]\n",
    "    for i in range(0, pow(2,n)):\n",
    "        y = to_bin(i, n)\n",
    "        dot=0\n",
    "        for p in range(n):\n",
    "            dot+=int(y[p], 2) * int(s[p], 2)\n",
    "        if dot%2 != 0:\n",
    "            l.append(y)\n",
    "\n",
    "    return l"
   ]
  },
  {
   "cell_type": "code",
   "execution_count": 12,
   "metadata": {},
   "outputs": [],
   "source": [
    "def empty_dict(n):\n",
    "    dict = {}\n",
    "    keys = [to_bin(i,n) for i in range(pow(2,n))]\n",
    "    dict = dict.fromkeys(keys, 0)\n",
    "    return dict"
   ]
  },
  {
   "cell_type": "code",
   "execution_count": null,
   "metadata": {},
   "outputs": [],
   "source": [
    "shots=100000\n",
    "s='1101'\n",
    "unwanted = simons_non_ys(s)"
   ]
  },
  {
   "cell_type": "markdown",
   "metadata": {},
   "source": [
    "# Count Histogram"
   ]
  },
  {
   "cell_type": "code",
   "execution_count": 15,
   "metadata": {},
   "outputs": [
    {
     "name": "stdout",
     "output_type": "stream",
     "text": [
      "bias: 0, entropy: 2.999960267450228\n"
     ]
    },
    {
     "data": {
      "image/png": "[encoded data removed]",
      "text/plain": [
       "<Figure size 640x480 with 1 Axes>"
      ]
     },
     "execution_count": 15,
     "metadata": {},
     "output_type": "execute_result"
    }
   ],
   "source": [
    "results = simon_measurements(simon_function(s),k=shots,noise_model=None)\n",
    "dist = empty_dict(len(s))\n",
    "for key, val in results.items():\n",
    "    dist[key] = val/shots\n",
    "    \n",
    "arr = calculate_bias_entropy(results, unwanted)\n",
    "print(f\"bias: {arr[0]}, entropy: {arr[1]}\")\n",
    "plot_histogram(dist)"
   ]
  },
  {
   "cell_type": "markdown",
   "metadata": {},
   "source": [
    "# Plot of Entropy vs Noise"
   ]
  },
  {
   "cell_type": "code",
   "execution_count": null,
   "metadata": {},
   "outputs": [],
   "source": [
    "biases = []\n",
    "entropies = []\n",
    "noise_levels = [j/100.0 for j in range(0, 51)]\n",
    "for i in noise_levels:\n",
    "    noise = create_noise_model(i)\n",
    "    results = simon_measurements(simon_function(s),k=shots,noise_model=noise)\n",
    "    arr = calculate_bias_entropy(results, unwanted)\n",
    "    biases.append(arr[0])\n",
    "    entropies.append(arr[1])\n",
    "# print(f\"bias: {arr[0]}, entropy: {arr[1]}\")\n",
    "# plot_histogram(results)"
   ]
  },
  {
   "cell_type": "code",
   "execution_count": null,
   "metadata": {},
   "outputs": [],
   "source": [
    "import matplotlib.pyplot as plt\n",
    "\n",
    "plt.plot(noise_levels, entropies, marker='o')  # marker='o' adds points for each x-y pair\n",
    "plt.xlabel('noise_level')\n",
    "plt.ylabel('entropy')\n",
    "plt.title('Plot of Entropy vs Noise')\n",
    "plt.grid(True)\n",
    "plt.show()"
   ]
  }
 ],
 "metadata": {
  "kernelspec": {
   "display_name": "cwq",
   "language": "python",
   "name": "python3"
  },
  "language_info": {
   "codemirror_mode": {
    "name": "ipython",
    "version": 3
   },
   "file_extension": ".py",
   "mimetype": "text/x-python",
   "name": "python",
   "nbconvert_exporter": "python",
   "pygments_lexer": "ipython3",
   "version": "3.12.3"
  }
 },
 "nbformat": 4,
 "nbformat_minor": 2
}
