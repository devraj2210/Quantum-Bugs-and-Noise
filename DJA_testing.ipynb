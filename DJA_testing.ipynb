{
 "cells": [
  {
   "cell_type": "code",
   "execution_count": 1,
   "metadata": {},
   "outputs": [],
   "source": [
    "from qiskit import QuantumCircuit, transpile\n",
    "import numpy as np\n",
    "from qiskit.visualization import plot_histogram\n",
    "from qiskit_aer import AerSimulator\n",
    "from qiskit_aer.noise import NoiseModel, errors\n",
    "\n",
    "from qiskit import QuantumCircuit, transpile\n",
    "import numpy as np"
   ]
  },
  {
   "cell_type": "code",
   "execution_count": 2,
   "metadata": {},
   "outputs": [],
   "source": [
    "def dj_function(num_qubits, balanced=True):\n",
    "    qc = QuantumCircuit(num_qubits + 1)\n",
    "    \n",
    "    if balanced:\n",
    "        # Create a constant function\n",
    "        if np.random.randint(0, 2):\n",
    "            qc.x(num_qubits)  # Flip output qubit with 50% chance\n",
    "    else:\n",
    "        # Create a balanced function\n",
    "        qc.x(num_qubits)\n",
    "\n",
    "        # Choose half the possible input states\n",
    "        on_states = np.random.choice(\n",
    "            range(2**num_qubits),  # numbers to sample from\n",
    "            2**num_qubits // 2,  # number of samples\n",
    "            replace=False,  # makes sure states are only sampled once\n",
    "        )\n",
    "\n",
    "        def add_cx(qc, bit_string):\n",
    "            for qubit, bit in enumerate(reversed(bit_string)):\n",
    "                if bit == \"1\":\n",
    "                    qc.x(qubit)\n",
    "            return qc\n",
    "\n",
    "        for state in on_states:\n",
    "            qc.barrier()  # Barriers are added to help visualize how the functions are created. They can safely be removed.\n",
    "            qc = add_cx(qc, f\"{state:0b}\")\n",
    "            qc.mcx(list(range(num_qubits)), num_qubits)\n",
    "            qc = add_cx(qc, f\"{state:0b}\")\n",
    "\n",
    "    qc.barrier()\n",
    "    return qc\n"
   ]
  },
  {
   "cell_type": "code",
   "execution_count": 3,
   "metadata": {},
   "outputs": [],
   "source": [
    "def create_noise_model(f):\n",
    "    noise_model = NoiseModel()\n",
    "\n",
    "    # Add a bit-flip error on all single-qubit gates with a probability of 0.05\n",
    "    bit_flip_error = errors.pauli_error([('X', f), ('I', 1-f)])\n",
    "    noise_model.add_all_qubit_quantum_error(bit_flip_error, ['u1', 'u2', 'u3', 'rz', 'sx', 'x', 'y', 'z', 'h', 's', 'sdg', 't', 'tdg'])\n",
    "\n",
    "    # Add a phase-flip error on all single-qubit gates with a probability of 0.05\n",
    "    phase_flip_error = errors.pauli_error([('Z', f), ('I', 1-f)])\n",
    "    noise_model.add_all_qubit_quantum_error(phase_flip_error, ['u1', 'u2', 'u3', 'rz', 'sx', 'x', 'y', 'z', 'h', 's', 'sdg', 't', 'tdg'])\n",
    "    \n",
    "    # Add a depolarizing error on two-qubit gates with a probability of 0.05\n",
    "    depolarizing_error = errors.depolarizing_error(f, 2)\n",
    "    noise_model.add_all_qubit_quantum_error(depolarizing_error, ['cx'])\n",
    "\n",
    "    return noise_model"
   ]
  },
  {
   "cell_type": "code",
   "execution_count": 4,
   "metadata": {},
   "outputs": [],
   "source": [
    "def compile_circuit(function: QuantumCircuit):\n",
    "    n = function.num_qubits - 1\n",
    "    qc = QuantumCircuit(n + 1, n)\n",
    "    # qc.x(n)  # bug\n",
    "    qc.x(n)      #1\n",
    "    qc.h(range(n + 1))\n",
    "    qc.compose(function, inplace=True)   #2\n",
    "    qc.h(range(n))        #3\n",
    "    # qc.x(0)  # bug\n",
    "    qc.measure(range(n), range(n))\n",
    "    return qc"
   ]
  },
  {
   "cell_type": "code",
   "execution_count": 5,
   "metadata": {},
   "outputs": [],
   "source": [
    "def dj_algorithm(function: QuantumCircuit, noise, shots):\n",
    "    qc = compile_circuit(function)\n",
    "    # print(\"dj_algorithm\")\n",
    "    # qc.draw('mpl')\n",
    "    simulator = AerSimulator(noise_model=noise)\n",
    "    result = simulator.run(transpile(qc, simulator), shots=shots, memory=True).result()\n",
    "    # measurements = result.get_memory()\n",
    "    return result.get_counts()"
   ]
  },
  {
   "cell_type": "code",
   "execution_count": 6,
   "metadata": {},
   "outputs": [],
   "source": [
    "from math import log2\n",
    "\n",
    "def calculate_bias_entropy(output_map, unwanted_states):\n",
    "    total_count = sum(output_map.values())\n",
    "\n",
    "    bias = 0\n",
    "    count = 0\n",
    "    for key, val in output_map.items():\n",
    "        if key in unwanted_states:\n",
    "            bias += val / total_count\n",
    "        count += 1\n",
    "\n",
    "    entropy = 0\n",
    "    for key, val in output_map.items():\n",
    "        if (val == 0):\n",
    "            continue\n",
    "        else:\n",
    "            p = val / total_count\n",
    "            entropy = entropy - p * log2(p)\n",
    "\n",
    "    return bias, entropy"
   ]
  },
  {
   "cell_type": "code",
   "execution_count": 7,
   "metadata": {},
   "outputs": [],
   "source": [
    "def to_bin(number, num_bits):\n",
    "    return format(number, f'0{num_bits}b')"
   ]
  },
  {
   "cell_type": "code",
   "execution_count": 13,
   "metadata": {},
   "outputs": [],
   "source": [
    "n=3\n",
    "unwanted_cons = [to_bin(0,n)]\n",
    "unwanted_bal = [to_bin(i,n) for i in range(1, pow(2,n))]\n",
    "unwanted = {'balanced': unwanted_bal,\n",
    "            'constant': unwanted_cons}\n",
    "shots=1000\n",
    "runs=1000"
   ]
  },
  {
   "cell_type": "code",
   "execution_count": 14,
   "metadata": {},
   "outputs": [],
   "source": [
    "def empty_dict():\n",
    "    dict = {}\n",
    "    keys = unwanted_cons+unwanted_bal\n",
    "    dict = dict.fromkeys(keys, 0)\n",
    "    return dict"
   ]
  },
  {
   "cell_type": "markdown",
   "metadata": {},
   "source": [
    "# Count Histogram"
   ]
  },
  {
   "cell_type": "code",
   "execution_count": 16,
   "metadata": {},
   "outputs": [
    {
     "name": "stdout",
     "output_type": "stream",
     "text": [
      "0.028761 2.9140039363776205\n"
     ]
    },
    {
     "data": {
      "image/png": "[encoded data removed]",
      "text/plain": [
       "<Figure size 640x480 with 1 Axes>"
      ]
     },
     "execution_count": 16,
     "metadata": {},
     "output_type": "execute_result"
    }
   ],
   "source": [
    "dist = empty_dict()\n",
    "noise = create_noise_model(0.001)\n",
    "f_type = 'constant'\n",
    "for _ in range(runs):\n",
    "    f = dj_function(n, balanced=(f_type=='balanced'))\n",
    "    result = dj_algorithm(f, noise, shots)\n",
    "    for key, val in result.items():\n",
    "        dist[key] += val\n",
    "\n",
    "arr = calculate_bias_entropy(dist, unwanted[f_type])   # the second argument is a list of unwanted states\n",
    "print(arr[0], arr[1])\n",
    "for key, val in dist.items():\n",
    "    dist[key] = val/(shots*runs)\n",
    "plot_histogram(dist)"
   ]
  },
  {
   "cell_type": "markdown",
   "metadata": {},
   "source": [
    "# Plot of Entropy wrt Noise"
   ]
  },
  {
   "cell_type": "code",
   "execution_count": null,
   "metadata": {},
   "outputs": [],
   "source": [
    "entropies = []\n",
    "biases = []\n",
    "noise_levels = [j/100.0 for j in range(0, 51)]\n",
    "f_type='balanced'\n",
    "for i in noise_levels:\n",
    "    dist = empty_dict()\n",
    "    noise_model = create_noise_model(i)\n",
    "    for _ in range(runs):\n",
    "        f = dj_function(n, balanced=(f_type=='balanced'))  #bal\n",
    "        result = dj_algorithm(f, noise_model, shots)\n",
    "        for key, val in result.items():\n",
    "            dist[key] += val\n",
    "    arr = calculate_bias_entropy(dist, unwanted[f_type])\n",
    "    biases.append(arr[0])\n",
    "    entropies.append(arr[1])"
   ]
  },
  {
   "cell_type": "code",
   "execution_count": null,
   "metadata": {},
   "outputs": [],
   "source": [
    "import matplotlib.pyplot as plt\n",
    "\n",
    "plt.plot(noise_levels, entropies, marker='o')  # marker='o' adds points for each x-y pair\n",
    "plt.xlabel('noise_level')\n",
    "plt.ylabel('entropy')\n",
    "plt.title('Plot of Entropy vs Noise')\n",
    "plt.grid(True)\n",
    "plt.show()"
   ]
  }
 ],
 "metadata": {
  "kernelspec": {
   "display_name": "cwq",
   "language": "python",
   "name": "python3"
  },
  "language_info": {
   "codemirror_mode": {
    "name": "ipython",
    "version": 3
   },
   "file_extension": ".py",
   "mimetype": "text/x-python",
   "name": "python",
   "nbconvert_exporter": "python",
   "pygments_lexer": "ipython3",
   "version": "3.12.3"
  }
 },
 "nbformat": 4,
 "nbformat_minor": 4
}
